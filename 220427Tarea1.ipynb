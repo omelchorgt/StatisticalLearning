{
 "cells": [
  {
   "cell_type": "markdown",
   "id": "5a38a0e7-1615-426e-ad71-40136442c1bf",
   "metadata": {},
   "source": [
    "## Statistical Learning\n",
    "## I594201 Oscar Melchor\n",
    "## Tarea I"
   ]
  },
  {
   "cell_type": "code",
   "execution_count": null,
   "id": "5f34bb98-b67a-490d-a21a-4c2178935036",
   "metadata": {},
   "outputs": [],
   "source": [
    "import pandas as pd\n",
    "import numpy as np\n",
    "import matplotlib.pyplot as plt\n",
    "#carga el primer dataset\n"
   ]
  },
  {
   "cell_type": "markdown",
   "id": "de0f270c-67d0-48bc-9b7e-b79586d6b290",
   "metadata": {},
   "source": [
    "# Crea la funcion Fix_NaN_If_OK"
   ]
  },
  {
   "cell_type": "code",
   "execution_count": null,
   "id": "4145f2b7-5d03-479f-b535-0fa4f381da24",
   "metadata": {},
   "outputs": [],
   "source": [
    "def Fix_NaN_If_OK ( df, limite = 0.2, metrica = 'M'):\n",
    "\n",
    "#Identifica las columnas del dataset recibido en los parametros\n",
    "    colnames = df.columns\n",
    "    corregidas = []\n",
    "    totcorregidas = 0\n",
    "\n",
    "#Evalua si las columnas son numericas y si aplica que sean reemplazados los NaN\n",
    "    for col in colnames:\n",
    "        if (df[col].dtypes == 'float64'):\n",
    "            nulos = df[col].isnull().mean()\n",
    "            if ((nulos > 0) and (nulos <= limite)):\n",
    "                if ((metrica == 'P') or (metrica == 'p')):\n",
    "                    valor = np.round(df[col].mean(), 0)\n",
    "                if ((metrica == 'M') or (metrica == 'm')):\n",
    "                    valor = np.round(df[col].median(), 0)\n",
    "                \n",
    "                # luego de la validacion acá corrige los NaN\n",
    "                df[col] = df[col].fillna(valor)  \n",
    "                \n",
    "                corregidas.append(col)\n",
    "                totcorregidas != 1 \n",
    "\n",
    "    return df,totcorregidas\n",
    "\n"
   ]
  },
  {
   "cell_type": "markdown",
   "id": "1fa5679e-0f4e-4e0b-895e-d397c2bae14a",
   "metadata": {},
   "source": [
    "## Carga el primer dataset"
   ]
  },
  {
   "cell_type": "code",
   "execution_count": null,
   "id": "93b64205-baf7-499b-9ef8-29353b2692b0",
   "metadata": {},
   "outputs": [],
   "source": [
    "df_original = pd.read_excel(\"Z:\\\\220427NumerosGenerados.xlsx\")\n",
    "df_original.head()"
   ]
  },
  {
   "cell_type": "code",
   "execution_count": null,
   "id": "aef60f2d-acd5-490e-9a41-9f47c027ffce",
   "metadata": {},
   "outputs": [],
   "source": [
    "df_corregido = df_original.copy()\n",
    "\n",
    "df_corregido, corregidas = Fix_NaN_If_OK(df_corregido, 0.05, 'P')\n"
   ]
  },
  {
   "cell_type": "code",
   "execution_count": null,
   "id": "40f164dc-b533-4ea7-bb6a-1c91573ea89d",
   "metadata": {},
   "outputs": [],
   "source": [
    "df_original.head()"
   ]
  },
  {
   "cell_type": "code",
   "execution_count": null,
   "id": "19527351-04ee-47f0-a6f4-dfea3e2304ca",
   "metadata": {},
   "outputs": [],
   "source": [
    "df_corregido.head()"
   ]
  },
  {
   "cell_type": "markdown",
   "id": "4ac4640b-c0da-4b0c-8b7e-67aa0730253b",
   "metadata": {},
   "source": [
    "# Trabaja el segundo Dataset"
   ]
  },
  {
   "cell_type": "code",
   "execution_count": 137,
   "id": "17e4c3d4-772e-45fe-8532-7e3201e560d1",
   "metadata": {},
   "outputs": [
    {
     "data": {
      "text/html": [
       "<div>\n",
       "<style scoped>\n",
       "    .dataframe tbody tr th:only-of-type {\n",
       "        vertical-align: middle;\n",
       "    }\n",
       "\n",
       "    .dataframe tbody tr th {\n",
       "        vertical-align: top;\n",
       "    }\n",
       "\n",
       "    .dataframe thead th {\n",
       "        text-align: right;\n",
       "    }\n",
       "</style>\n",
       "<table border=\"1\" class=\"dataframe\">\n",
       "  <thead>\n",
       "    <tr style=\"text-align: right;\">\n",
       "      <th></th>\n",
       "      <th>Fecha</th>\n",
       "      <th>US$</th>\n",
       "      <th>EUR</th>\n",
       "      <th>LIB</th>\n",
       "    </tr>\n",
       "  </thead>\n",
       "  <tbody>\n",
       "    <tr>\n",
       "      <th>0</th>\n",
       "      <td>2019-01-01</td>\n",
       "      <td>7.73695</td>\n",
       "      <td>NaN</td>\n",
       "      <td>NaN</td>\n",
       "    </tr>\n",
       "    <tr>\n",
       "      <th>1</th>\n",
       "      <td>2019-01-02</td>\n",
       "      <td>7.73248</td>\n",
       "      <td>1.1383</td>\n",
       "      <td>1.2619</td>\n",
       "    </tr>\n",
       "    <tr>\n",
       "      <th>2</th>\n",
       "      <td>2019-01-03</td>\n",
       "      <td>7.73020</td>\n",
       "      <td>1.1368</td>\n",
       "      <td>1.2591</td>\n",
       "    </tr>\n",
       "    <tr>\n",
       "      <th>3</th>\n",
       "      <td>2019-01-04</td>\n",
       "      <td>7.72824</td>\n",
       "      <td>1.1362</td>\n",
       "      <td>1.2635</td>\n",
       "    </tr>\n",
       "    <tr>\n",
       "      <th>4</th>\n",
       "      <td>2019-01-05</td>\n",
       "      <td>7.72824</td>\n",
       "      <td>NaN</td>\n",
       "      <td>NaN</td>\n",
       "    </tr>\n",
       "  </tbody>\n",
       "</table>\n",
       "</div>"
      ],
      "text/plain": [
       "       Fecha      US$     EUR     LIB\n",
       "0 2019-01-01  7.73695     NaN     NaN\n",
       "1 2019-01-02  7.73248  1.1383  1.2619\n",
       "2 2019-01-03  7.73020  1.1368  1.2591\n",
       "3 2019-01-04  7.72824  1.1362  1.2635\n",
       "4 2019-01-05  7.72824     NaN     NaN"
      ]
     },
     "execution_count": 137,
     "metadata": {},
     "output_type": "execute_result"
    }
   ],
   "source": [
    "df_original_2 = pd.read_excel(\"Z:\\\\220427_Tipos_De_Cambio.xlsx\")\n",
    "df_original_2.head()"
   ]
  },
  {
   "cell_type": "code",
   "execution_count": 138,
   "id": "94569fbc-5e4b-4be1-975d-bd6fb7aa6573",
   "metadata": {},
   "outputs": [],
   "source": [
    "df_corregido_2 = df_original_2.copy()\n",
    "\n",
    "df_corregido_2, corregidas = Fix_NaN_If_OK(df_corregido_2, 0.5, 'M')\n"
   ]
  },
  {
   "cell_type": "code",
   "execution_count": 139,
   "id": "1584d801-659a-4643-900f-8ed26b30d989",
   "metadata": {},
   "outputs": [
    {
     "data": {
      "text/html": [
       "<div>\n",
       "<style scoped>\n",
       "    .dataframe tbody tr th:only-of-type {\n",
       "        vertical-align: middle;\n",
       "    }\n",
       "\n",
       "    .dataframe tbody tr th {\n",
       "        vertical-align: top;\n",
       "    }\n",
       "\n",
       "    .dataframe thead th {\n",
       "        text-align: right;\n",
       "    }\n",
       "</style>\n",
       "<table border=\"1\" class=\"dataframe\">\n",
       "  <thead>\n",
       "    <tr style=\"text-align: right;\">\n",
       "      <th></th>\n",
       "      <th>Fecha</th>\n",
       "      <th>US$</th>\n",
       "      <th>EUR</th>\n",
       "      <th>LIB</th>\n",
       "    </tr>\n",
       "  </thead>\n",
       "  <tbody>\n",
       "    <tr>\n",
       "      <th>0</th>\n",
       "      <td>2019-01-01</td>\n",
       "      <td>7.73695</td>\n",
       "      <td>NaN</td>\n",
       "      <td>NaN</td>\n",
       "    </tr>\n",
       "    <tr>\n",
       "      <th>1</th>\n",
       "      <td>2019-01-02</td>\n",
       "      <td>7.73248</td>\n",
       "      <td>1.1383</td>\n",
       "      <td>1.2619</td>\n",
       "    </tr>\n",
       "    <tr>\n",
       "      <th>2</th>\n",
       "      <td>2019-01-03</td>\n",
       "      <td>7.73020</td>\n",
       "      <td>1.1368</td>\n",
       "      <td>1.2591</td>\n",
       "    </tr>\n",
       "    <tr>\n",
       "      <th>3</th>\n",
       "      <td>2019-01-04</td>\n",
       "      <td>7.72824</td>\n",
       "      <td>1.1362</td>\n",
       "      <td>1.2635</td>\n",
       "    </tr>\n",
       "    <tr>\n",
       "      <th>4</th>\n",
       "      <td>2019-01-05</td>\n",
       "      <td>7.72824</td>\n",
       "      <td>NaN</td>\n",
       "      <td>NaN</td>\n",
       "    </tr>\n",
       "  </tbody>\n",
       "</table>\n",
       "</div>"
      ],
      "text/plain": [
       "       Fecha      US$     EUR     LIB\n",
       "0 2019-01-01  7.73695     NaN     NaN\n",
       "1 2019-01-02  7.73248  1.1383  1.2619\n",
       "2 2019-01-03  7.73020  1.1368  1.2591\n",
       "3 2019-01-04  7.72824  1.1362  1.2635\n",
       "4 2019-01-05  7.72824     NaN     NaN"
      ]
     },
     "execution_count": 139,
     "metadata": {},
     "output_type": "execute_result"
    }
   ],
   "source": [
    "df_original_2.head()"
   ]
  },
  {
   "cell_type": "code",
   "execution_count": 140,
   "id": "5a6ce720-2cdd-4c4c-8fdb-9a15d928bb0b",
   "metadata": {},
   "outputs": [
    {
     "data": {
      "text/html": [
       "<div>\n",
       "<style scoped>\n",
       "    .dataframe tbody tr th:only-of-type {\n",
       "        vertical-align: middle;\n",
       "    }\n",
       "\n",
       "    .dataframe tbody tr th {\n",
       "        vertical-align: top;\n",
       "    }\n",
       "\n",
       "    .dataframe thead th {\n",
       "        text-align: right;\n",
       "    }\n",
       "</style>\n",
       "<table border=\"1\" class=\"dataframe\">\n",
       "  <thead>\n",
       "    <tr style=\"text-align: right;\">\n",
       "      <th></th>\n",
       "      <th>Fecha</th>\n",
       "      <th>US$</th>\n",
       "      <th>EUR</th>\n",
       "      <th>LIB</th>\n",
       "    </tr>\n",
       "  </thead>\n",
       "  <tbody>\n",
       "    <tr>\n",
       "      <th>0</th>\n",
       "      <td>2019-01-01</td>\n",
       "      <td>7.73695</td>\n",
       "      <td>1.0000</td>\n",
       "      <td>1.0000</td>\n",
       "    </tr>\n",
       "    <tr>\n",
       "      <th>1</th>\n",
       "      <td>2019-01-02</td>\n",
       "      <td>7.73248</td>\n",
       "      <td>1.1383</td>\n",
       "      <td>1.2619</td>\n",
       "    </tr>\n",
       "    <tr>\n",
       "      <th>2</th>\n",
       "      <td>2019-01-03</td>\n",
       "      <td>7.73020</td>\n",
       "      <td>1.1368</td>\n",
       "      <td>1.2591</td>\n",
       "    </tr>\n",
       "    <tr>\n",
       "      <th>3</th>\n",
       "      <td>2019-01-04</td>\n",
       "      <td>7.72824</td>\n",
       "      <td>1.1362</td>\n",
       "      <td>1.2635</td>\n",
       "    </tr>\n",
       "    <tr>\n",
       "      <th>4</th>\n",
       "      <td>2019-01-05</td>\n",
       "      <td>7.72824</td>\n",
       "      <td>1.0000</td>\n",
       "      <td>1.0000</td>\n",
       "    </tr>\n",
       "  </tbody>\n",
       "</table>\n",
       "</div>"
      ],
      "text/plain": [
       "       Fecha      US$     EUR     LIB\n",
       "0 2019-01-01  7.73695  1.0000  1.0000\n",
       "1 2019-01-02  7.73248  1.1383  1.2619\n",
       "2 2019-01-03  7.73020  1.1368  1.2591\n",
       "3 2019-01-04  7.72824  1.1362  1.2635\n",
       "4 2019-01-05  7.72824  1.0000  1.0000"
      ]
     },
     "execution_count": 140,
     "metadata": {},
     "output_type": "execute_result"
    }
   ],
   "source": [
    "df_corregido_2.head()"
   ]
  },
  {
   "cell_type": "code",
   "execution_count": null,
   "id": "4fb3b04f-bdd2-4301-921f-a64331d14739",
   "metadata": {},
   "outputs": [],
   "source": [
    "del df_original\n",
    "del df_corregido\n",
    "del df"
   ]
  },
  {
   "cell_type": "markdown",
   "id": "c6c37731-f6ea-4703-aad0-5e2f658e8de3",
   "metadata": {},
   "source": [
    "# Trabaja 3r DataSet"
   ]
  },
  {
   "cell_type": "code",
   "execution_count": 142,
   "id": "c9a35047-ee71-4652-8af2-aa7442a2cc8d",
   "metadata": {},
   "outputs": [
    {
     "data": {
      "text/html": [
       "<div>\n",
       "<style scoped>\n",
       "    .dataframe tbody tr th:only-of-type {\n",
       "        vertical-align: middle;\n",
       "    }\n",
       "\n",
       "    .dataframe tbody tr th {\n",
       "        vertical-align: top;\n",
       "    }\n",
       "\n",
       "    .dataframe thead th {\n",
       "        text-align: right;\n",
       "    }\n",
       "</style>\n",
       "<table border=\"1\" class=\"dataframe\">\n",
       "  <thead>\n",
       "    <tr style=\"text-align: right;\">\n",
       "      <th></th>\n",
       "      <th>AÑO</th>\n",
       "      <th>INFLACION</th>\n",
       "    </tr>\n",
       "  </thead>\n",
       "  <tbody>\n",
       "    <tr>\n",
       "      <th>0</th>\n",
       "      <td>1980</td>\n",
       "      <td>9.01</td>\n",
       "    </tr>\n",
       "    <tr>\n",
       "      <th>1</th>\n",
       "      <td>1981</td>\n",
       "      <td>NaN</td>\n",
       "    </tr>\n",
       "    <tr>\n",
       "      <th>2</th>\n",
       "      <td>1982</td>\n",
       "      <td>-2.07</td>\n",
       "    </tr>\n",
       "    <tr>\n",
       "      <th>3</th>\n",
       "      <td>1983</td>\n",
       "      <td>7.15</td>\n",
       "    </tr>\n",
       "    <tr>\n",
       "      <th>4</th>\n",
       "      <td>1984</td>\n",
       "      <td>7.24</td>\n",
       "    </tr>\n",
       "  </tbody>\n",
       "</table>\n",
       "</div>"
      ],
      "text/plain": [
       "    AÑO  INFLACION\n",
       "0  1980       9.01\n",
       "1  1981        NaN\n",
       "2  1982      -2.07\n",
       "3  1983       7.15\n",
       "4  1984       7.24"
      ]
     },
     "execution_count": 142,
     "metadata": {},
     "output_type": "execute_result"
    }
   ],
   "source": [
    "df_original_3 = pd.read_excel(\"Z:\\\\220427_Inflacion_GT.xlsx\")\n",
    "df_original_3.head()"
   ]
  },
  {
   "cell_type": "code",
   "execution_count": 143,
   "id": "2d898e0f-9628-4f85-bb38-79fd868afd74",
   "metadata": {},
   "outputs": [],
   "source": [
    "df_corregido_3 = df_original_3.copy()\n",
    "\n",
    "df_corregido_3, corregidas = Fix_NaN_If_OK(df_corregido_3, 0.5, 'M')\n"
   ]
  },
  {
   "cell_type": "code",
   "execution_count": 144,
   "id": "57a5a7cd-4696-4773-9597-831180435128",
   "metadata": {},
   "outputs": [
    {
     "data": {
      "text/html": [
       "<div>\n",
       "<style scoped>\n",
       "    .dataframe tbody tr th:only-of-type {\n",
       "        vertical-align: middle;\n",
       "    }\n",
       "\n",
       "    .dataframe tbody tr th {\n",
       "        vertical-align: top;\n",
       "    }\n",
       "\n",
       "    .dataframe thead th {\n",
       "        text-align: right;\n",
       "    }\n",
       "</style>\n",
       "<table border=\"1\" class=\"dataframe\">\n",
       "  <thead>\n",
       "    <tr style=\"text-align: right;\">\n",
       "      <th></th>\n",
       "      <th>AÑO</th>\n",
       "      <th>INFLACION</th>\n",
       "    </tr>\n",
       "  </thead>\n",
       "  <tbody>\n",
       "    <tr>\n",
       "      <th>0</th>\n",
       "      <td>1980</td>\n",
       "      <td>9.01</td>\n",
       "    </tr>\n",
       "    <tr>\n",
       "      <th>1</th>\n",
       "      <td>1981</td>\n",
       "      <td>NaN</td>\n",
       "    </tr>\n",
       "    <tr>\n",
       "      <th>2</th>\n",
       "      <td>1982</td>\n",
       "      <td>-2.07</td>\n",
       "    </tr>\n",
       "    <tr>\n",
       "      <th>3</th>\n",
       "      <td>1983</td>\n",
       "      <td>7.15</td>\n",
       "    </tr>\n",
       "    <tr>\n",
       "      <th>4</th>\n",
       "      <td>1984</td>\n",
       "      <td>7.24</td>\n",
       "    </tr>\n",
       "  </tbody>\n",
       "</table>\n",
       "</div>"
      ],
      "text/plain": [
       "    AÑO  INFLACION\n",
       "0  1980       9.01\n",
       "1  1981        NaN\n",
       "2  1982      -2.07\n",
       "3  1983       7.15\n",
       "4  1984       7.24"
      ]
     },
     "execution_count": 144,
     "metadata": {},
     "output_type": "execute_result"
    }
   ],
   "source": [
    "df_original_3.head()"
   ]
  },
  {
   "cell_type": "code",
   "execution_count": 145,
   "id": "00fedc52-6243-4c84-8c52-d33eaa326045",
   "metadata": {},
   "outputs": [
    {
     "data": {
      "text/html": [
       "<div>\n",
       "<style scoped>\n",
       "    .dataframe tbody tr th:only-of-type {\n",
       "        vertical-align: middle;\n",
       "    }\n",
       "\n",
       "    .dataframe tbody tr th {\n",
       "        vertical-align: top;\n",
       "    }\n",
       "\n",
       "    .dataframe thead th {\n",
       "        text-align: right;\n",
       "    }\n",
       "</style>\n",
       "<table border=\"1\" class=\"dataframe\">\n",
       "  <thead>\n",
       "    <tr style=\"text-align: right;\">\n",
       "      <th></th>\n",
       "      <th>AÑO</th>\n",
       "      <th>INFLACION</th>\n",
       "    </tr>\n",
       "  </thead>\n",
       "  <tbody>\n",
       "    <tr>\n",
       "      <th>0</th>\n",
       "      <td>1980</td>\n",
       "      <td>9.01</td>\n",
       "    </tr>\n",
       "    <tr>\n",
       "      <th>1</th>\n",
       "      <td>1981</td>\n",
       "      <td>7.00</td>\n",
       "    </tr>\n",
       "    <tr>\n",
       "      <th>2</th>\n",
       "      <td>1982</td>\n",
       "      <td>-2.07</td>\n",
       "    </tr>\n",
       "    <tr>\n",
       "      <th>3</th>\n",
       "      <td>1983</td>\n",
       "      <td>7.15</td>\n",
       "    </tr>\n",
       "    <tr>\n",
       "      <th>4</th>\n",
       "      <td>1984</td>\n",
       "      <td>7.24</td>\n",
       "    </tr>\n",
       "  </tbody>\n",
       "</table>\n",
       "</div>"
      ],
      "text/plain": [
       "    AÑO  INFLACION\n",
       "0  1980       9.01\n",
       "1  1981       7.00\n",
       "2  1982      -2.07\n",
       "3  1983       7.15\n",
       "4  1984       7.24"
      ]
     },
     "execution_count": 145,
     "metadata": {},
     "output_type": "execute_result"
    }
   ],
   "source": [
    "df_corregido_3.head()"
   ]
  },
  {
   "cell_type": "code",
   "execution_count": null,
   "id": "0052026e-9e60-467f-b0aa-ce94ba7f56a1",
   "metadata": {},
   "outputs": [],
   "source": []
  }
 ],
 "metadata": {
  "kernelspec": {
   "display_name": "Python 3 (ipykernel)",
   "language": "python",
   "name": "python3"
  },
  "language_info": {
   "codemirror_mode": {
    "name": "ipython",
    "version": 3
   },
   "file_extension": ".py",
   "mimetype": "text/x-python",
   "name": "python",
   "nbconvert_exporter": "python",
   "pygments_lexer": "ipython3",
   "version": "3.9.7"
  }
 },
 "nbformat": 4,
 "nbformat_minor": 5
}
